{
 "cells": [
  {
   "cell_type": "code",
   "execution_count": 64,
   "metadata": {
    "collapsed": true
   },
   "outputs": [],
   "source": [
    "from ngrams import *"
   ]
  },
  {
   "cell_type": "code",
   "execution_count": 65,
   "metadata": {},
   "outputs": [
    {
     "data": {
      "text/plain": [
       "['its',\n 'all',\n 'nice',\n 'and',\n 'dandy',\n 'but',\n 'we',\n 'all',\n 'would',\n 'like',\n 'to',\n 'have',\n 'lunch',\n 'as',\n 'soon',\n 'as',\n 'possible']"
      ]
     },
     "execution_count": 65,
     "metadata": {},
     "output_type": "execute_result"
    }
   ],
   "source": [
    "# segmentation live \n",
    "segment('itsallniceanddandybutweallwouldliketohavelunchassoonaspossible')"
   ]
  },
  {
   "cell_type": "code",
   "execution_count": 67,
   "metadata": {},
   "outputs": [],
   "source": [
    "%matplotlib inline\n",
    "import datetime\n",
    "import matplotlib.pylab as plt\n",
    "\n",
    "def segment_timed(s):\n",
    "    \"\"\"outputs segmented string and computing time in microseconds\"\"\"\n",
    "    start = datetime.datetime.now()\n",
    "    seg = segment(s)\n",
    "    delta = (datetime.datetime.now() - start).microseconds\n",
    "    print('--seg--', seg, '--delta [microsec]--', delta)\n",
    "    return seg, delta"
   ]
  },
  {
   "cell_type": "code",
   "execution_count": 68,
   "metadata": {},
   "outputs": [
    {
     "data": {
      "text/plain": [
       "'heaterheater'"
      ]
     },
     "execution_count": 68,
     "metadata": {},
     "output_type": "execute_result"
    }
   ],
   "source": [
    "''.join(2*['heater'])"
   ]
  },
  {
   "cell_type": "code",
   "execution_count": 70,
   "metadata": {},
   "outputs": [
    {
     "name": "stdout",
     "output_type": "stream",
     "text": [
      "--seg-- [] --delta [microsec]-- 7\n--seg-- ['bath'] --delta [microsec]-- 190\n--seg-- ['bath', 'bath'] --delta [microsec]-- 445\n--seg-- ['bath', 'bath', 'bath'] --delta [microsec]-- 513\n--seg-- ['bath', 'bath', 'bath', 'bath'] --delta [microsec]-- 594\n--seg-- ['bath', 'bath', 'bath', 'bath', 'bath'] --delta [microsec]-- 748\n--seg-- ['bath', 'bath', 'bath', 'bath', 'bath', 'bath'] --delta [microsec]-- 517\n--seg-- ['bath', 'bath', 'bath', 'bath', 'bath', 'bath', 'bath'] --delta [microsec]-- 491\n--seg-- ['bath', 'bath', 'bath', 'bath', 'bath', 'bath', 'bath', 'bath'] --delta [microsec]-- 561\n--seg-- ['bath', 'bath', 'bath', 'bath', 'bath', 'bath', 'bath', 'bath', 'bath'] --delta [microsec]-- 658\n"
     ]
    },
    {
     "data": {
      "text/plain": [
       "[<matplotlib.lines.Line2D at 0x13c8d0240>]"
      ]
     },
     "execution_count": 70,
     "metadata": {},
     "output_type": "execute_result"
    },
    {
     "data": {
      "image/png": "[encoded data removed]",
      "text/plain": [
       "<matplotlib.figure.Figure at 0x13c85ceb8>"
      ]
     },
     "metadata": {},
     "output_type": "display_data"
    }
   ],
   "source": [
    "# test speed \n",
    "r = map(segment_timed, [''.join(k*['bath']) for k in range(10)])\n",
    "ss, ts = zip(*r)\n",
    "ts\n",
    "plt.plot(range(len(ts)), ts)"
   ]
  },
  {
   "cell_type": "code",
   "execution_count": 72,
   "metadata": {},
   "outputs": [
    {
     "data": {
      "text/plain": [
       "['in',\n 'a',\n 'hole',\n 'in',\n 'the',\n 'ground',\n 'there',\n 'lived',\n 'a',\n 'hobbit',\n 'not',\n 'a',\n 'nasty',\n 'dirty',\n 'wet',\n 'hole',\n 'filled',\n 'with',\n 'the',\n 'ends',\n 'of',\n 'worms',\n 'and',\n 'an',\n 'oozy',\n 'smell',\n 'nor',\n 'yet',\n 'a',\n 'dry',\n 'bare',\n 'sandy',\n 'hole',\n 'with',\n 'nothing',\n 'in',\n 'it',\n 'to',\n 'sitdown',\n 'on',\n 'or',\n 'to',\n 'eat',\n 'it',\n 'was',\n 'a',\n 'hobbit',\n 'hole',\n 'and',\n 'that',\n 'means',\n 'comfort']"
      ]
     },
     "execution_count": 72,
     "metadata": {},
     "output_type": "execute_result"
    }
   ],
   "source": [
    "segment('inaholeinthegroundtherelivedahobbitnotanastydirtywetholefilledwiththeendsofwormsandanoozysmellnoryetadrybaresandyholewithnothinginittositdownonortoeatitwasahobbitholeandthatmeanscomfort')"
   ]
  },
  {
   "cell_type": "code",
   "execution_count": 74,
   "metadata": {},
   "outputs": [
    {
     "data": {
      "text/plain": [
       "6.126665423938818e-19"
      ]
     },
     "execution_count": 74,
     "metadata": {},
     "output_type": "execute_result"
    }
   ],
   "source": [
    "Pwords('gorky')"
   ]
  },
  {
   "cell_type": "code",
   "execution_count": 42,
   "metadata": {},
   "outputs": [
    {
     "data": {
      "text/plain": [
       "'yvfgra, qb lbh jnag gb xabj n frperg?'"
      ]
     },
     "execution_count": 42,
     "metadata": {},
     "output_type": "execute_result"
    }
   ],
   "source": [
    "# secret code demo \n",
    "code = shift('listen, do you want to know a secret?')\n",
    "code"
   ]
  },
  {
   "cell_type": "code",
   "execution_count": 53,
   "metadata": {},
   "outputs": [
    {
     "data": {
      "text/plain": [
       "(-25.569037772878204, 'listen, do you want to know a secret?')"
      ]
     },
     "execution_count": 53,
     "metadata": {},
     "output_type": "execute_result"
    }
   ],
   "source": [
    "shifts = [shift(code, n) for n in range(len(alphabet))]\n",
    "max(zip(map(logPwords, shifts), shifts), key=lambda p: p[0])"
   ]
  },
  {
   "cell_type": "code",
   "execution_count": 55,
   "metadata": {},
   "outputs": [
    {
     "data": {
      "text/plain": [
       "'yvfgraqblbhjnaggbxabjnfrperg'"
      ]
     },
     "execution_count": 55,
     "metadata": {},
     "output_type": "execute_result"
    }
   ],
   "source": [
    "harder_code = shift2('listen, do you want to know a secret?')\n",
    "harder_code"
   ]
  },
  {
   "cell_type": "code",
   "execution_count": 57,
   "metadata": {},
   "outputs": [
    {
     "data": {
      "text/plain": [
       "'trarenyxrabovlrnefntblbhfreirqzlsngurevagurpybarjnefabjurortflbhgburycuvzvauvffgehttyrntnvafggurrzcver'"
      ]
     },
     "execution_count": 57,
     "metadata": {},
     "output_type": "execute_result"
    }
   ],
   "source": [
    "geeky_code = shift2('General Kenobi: years ago, you served my father in the Clone wars; now he begs you to help him in his struggle against the empire.')\n",
    "geeky_code"
   ]
  },
  {
   "cell_type": "code",
   "execution_count": 58,
   "metadata": {},
   "outputs": [
    {
     "data": {
      "text/plain": [
       "'general kenobi years ago you served my father in the clone wars now he begs you to help him in his struggle against the empire'"
      ]
     },
     "execution_count": 58,
     "metadata": {},
     "output_type": "execute_result"
    }
   ],
   "source": [
    "decode_shift2(geeky_code)"
   ]
  },
  {
   "cell_type": "code",
   "execution_count": 59,
   "metadata": {},
   "outputs": [
    {
     "data": {
      "text/plain": [
       "['hel', 'ell', 'llo', 'lo ', 'o w', ' wo', 'wor', 'orl', 'rld']"
      ]
     },
     "execution_count": 59,
     "metadata": {},
     "output_type": "execute_result"
    }
   ],
   "source": [
    "ngrams('hello world', 3)"
   ]
  },
  {
   "cell_type": "code",
   "execution_count": 60,
   "metadata": {},
   "outputs": [],
   "source": [
    "u_boat_message = 'WLJIU JYBRK PWFPF IJQSK PWRSS WEPTM MJRBS BJIRA BASPP IHBGP RWMWQ SOPSV PPIMJ BISUF WIFOT HWBIS WBIQW FBJRB GPILP PXLPM SAJQQ PMJQS RJASW LSBLW GBHMJ QSWIL PXWOL'"
   ]
  },
  {
   "cell_type": "code",
   "execution_count": 75,
   "metadata": {},
   "outputs": [
    {
     "name": "stdout",
     "output_type": "stream",
     "text": [
      "1 loop, best of 3: 1min 6s per loop\n"
     ]
    }
   ],
   "source": [
    "%timeit decode_subst(u_boat_message)"
   ]
  },
  {
   "cell_type": "code",
   "execution_count": null,
   "metadata": {},
   "outputs": [],
   "source": [
    ""
   ]
  }
 ],
 "metadata": {
  "kernelspec": {
   "display_name": "Python 2",
   "language": "python",
   "name": "python2"
  },
  "language_info": {
   "codemirror_mode": {
    "name": "ipython",
    "version": 2.0
   },
   "file_extension": ".py",
   "mimetype": "text/x-python",
   "name": "python",
   "nbconvert_exporter": "python",
   "pygments_lexer": "ipython2",
   "version": "2.7.6"
  }
 },
 "nbformat": 4,
 "nbformat_minor": 0
}